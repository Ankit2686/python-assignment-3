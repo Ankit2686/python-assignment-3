{
 "cells": [
  {
   "cell_type": "code",
   "execution_count": null,
   "id": "d3dd1917-e4bc-4606-84a6-5b8617cc5524",
   "metadata": {},
   "outputs": [],
   "source": [
    "#Q1. Which keyword is used to create a function? Create a function to return a list of odd numbers in the\n",
    "#range of 1 to 25."
   ]
  },
  {
   "cell_type": "code",
   "execution_count": null,
   "id": "da31529c-38b9-4d24-9949-b95eae94b9d6",
   "metadata": {},
   "outputs": [],
   "source": [
    "#answer\n",
    "#keyword used to creat a function 'def'"
   ]
  },
  {
   "cell_type": "code",
   "execution_count": 1,
   "id": "2bbfff7b-4ccf-489c-bc4a-6db8c2f210bf",
   "metadata": {},
   "outputs": [
    {
     "data": {
      "text/plain": [
       "range(1, 25)"
      ]
     },
     "execution_count": 1,
     "metadata": {},
     "output_type": "execute_result"
    }
   ],
   "source": [
    "range(1,25)"
   ]
  },
  {
   "cell_type": "code",
   "execution_count": 3,
   "id": "368bd88a-97de-4cb0-b503-5502486989aa",
   "metadata": {},
   "outputs": [
    {
     "name": "stdout",
     "output_type": "stream",
     "text": [
      "1\n",
      "2\n",
      "3\n",
      "4\n",
      "5\n",
      "6\n",
      "7\n",
      "8\n",
      "9\n",
      "10\n",
      "11\n",
      "12\n",
      "13\n",
      "14\n",
      "15\n",
      "16\n",
      "17\n",
      "18\n",
      "19\n",
      "20\n",
      "21\n",
      "22\n",
      "23\n",
      "24\n"
     ]
    }
   ],
   "source": [
    "for i in range(1,25):\n",
    "        print(i)"
   ]
  },
  {
   "cell_type": "code",
   "execution_count": 4,
   "id": "d7c46d81-fb68-46e7-92f0-3b5bf3fc745c",
   "metadata": {},
   "outputs": [
    {
     "name": "stdout",
     "output_type": "stream",
     "text": [
      "[1, 3, 5, 7, 9, 11, 13, 15, 17, 19, 21, 23, 25]\n"
     ]
    }
   ],
   "source": [
    "def odd_n():\n",
    "    return[x for x in range(1,26) if x % 2 !=0]\n",
    "print(odd_n())"
   ]
  },
  {
   "cell_type": "code",
   "execution_count": null,
   "id": "ffe588f6-5347-4b55-ba00-7d914d1cdc07",
   "metadata": {},
   "outputs": [],
   "source": [
    "#Q2. Why *args and **kwargs is used in some functions? Create a function each for *args and **kwargs to\n",
    "demonstrate their use."
   ]
  },
  {
   "cell_type": "code",
   "execution_count": 5,
   "id": "84ae84dc-1d3b-443a-99a9-613206cc9cac",
   "metadata": {},
   "outputs": [],
   "source": [
    "#answer2\n",
    "#*args is used to pass a variable number of non-keyword arguments.\n",
    "#**kwargs is used to pass a variable number of keyword arguments"
   ]
  },
  {
   "cell_type": "code",
   "execution_count": 10,
   "id": "0fc5c24c-e7e7-41d5-b8af-49ce9e6d89b6",
   "metadata": {},
   "outputs": [],
   "source": [
    "def args(*args):\n",
    "    for arg in args:\n",
    "        print(arg)\n"
   ]
  },
  {
   "cell_type": "code",
   "execution_count": 12,
   "id": "e8d06b5e-b250-4d8a-8662-bd2266357fdc",
   "metadata": {},
   "outputs": [
    {
     "name": "stdout",
     "output_type": "stream",
     "text": [
      "1\n",
      "2\n",
      "3\n",
      "4\n",
      "5\n"
     ]
    }
   ],
   "source": [
    "args(1, 2, 3, 4, 5)"
   ]
  },
  {
   "cell_type": "code",
   "execution_count": 15,
   "id": "d44edc9b-5ec0-4935-a158-fc16838d424a",
   "metadata": {},
   "outputs": [],
   "source": [
    "def kwargs(**kwargs):\n",
    "    for key, value in kwargs.items():\n",
    "        print(f\"{key}: {value}\")"
   ]
  },
  {
   "cell_type": "code",
   "execution_count": 17,
   "id": "7f45631a-b642-4208-96df-ee4cde29d5c9",
   "metadata": {},
   "outputs": [
    {
     "name": "stdout",
     "output_type": "stream",
     "text": [
      "name: Ankit\n",
      "course: data science\n",
      "fromm: pw skills\n"
     ]
    }
   ],
   "source": [
    "kwargs(name=\"Ankit\", course=\"data science\", fromm=\"pw skills\")"
   ]
  },
  {
   "cell_type": "code",
   "execution_count": null,
   "id": "7c757835-99cb-4ed2-ae89-5cb0d513833a",
   "metadata": {},
   "outputs": [],
   "source": [
    "#Q3. What is an iterator in python? Name the method used to initialise the iterator object and the method used for iteration. Use these methods to print the first five elements of the given list [2, 4, 6, 8, 10, 12, 14, 16, 18, 20]."
   ]
  },
  {
   "cell_type": "code",
   "execution_count": null,
   "id": "52da1bc2-ea1b-4cfe-937c-314c3fb95d02",
   "metadata": {},
   "outputs": [],
   "source": [
    "#answer3\n",
    "#An iterator in Python is an object that allows traversal through all the elements of a collection (like lists, tuples, etc.) one at a time."
   ]
  },
  {
   "cell_type": "code",
   "execution_count": 18,
   "id": "06dc4570-7958-482f-8e49-8d7d44e2d9a1",
   "metadata": {},
   "outputs": [],
   "source": [
    "list = [2,4,6,8,10,12,14,16,18,20]"
   ]
  },
  {
   "cell_type": "code",
   "execution_count": 21,
   "id": "be9a9b36-a51a-4b56-ab7b-5a22ac28f860",
   "metadata": {},
   "outputs": [
    {
     "name": "stdout",
     "output_type": "stream",
     "text": [
      "2\n",
      "4\n",
      "6\n",
      "8\n",
      "10\n",
      "12\n",
      "14\n"
     ]
    }
   ],
   "source": [
    "# Initializing the iterator object\n",
    "my_iter = iter(list)\n",
    "\n",
    "# Iterating through the first five elements\n",
    "for _ in range(7):\n",
    "    print(next(my_iter))"
   ]
  },
  {
   "cell_type": "code",
   "execution_count": null,
   "id": "b94c47a0-745f-43b8-95a5-367add006c83",
   "metadata": {},
   "outputs": [],
   "source": [
    "#Q4. What is a generator function in python? Why yield keyword is used? Give an example of a generator function."
   ]
  },
  {
   "cell_type": "code",
   "execution_count": null,
   "id": "1ab838e3-17da-4c98-838c-65317e847c20",
   "metadata": {},
   "outputs": [],
   "source": [
    "#answer4\n",
    "#A generator function in Python is a function that returns an iterator that yields one value at a time, allowing for iteration over a sequence of values.\n",
    "\n",
    "#The yield keyword is used to produce a value and suspend the function’s execution, allowing it to be resumed later."
   ]
  },
  {
   "cell_type": "code",
   "execution_count": 22,
   "id": "a67c0c5e-bc82-471e-91ac-459b7591a431",
   "metadata": {},
   "outputs": [
    {
     "name": "stdout",
     "output_type": "stream",
     "text": [
      "1\n",
      "2\n",
      "3\n",
      "4\n",
      "5\n"
     ]
    }
   ],
   "source": [
    "def generator():\n",
    "    yield 1\n",
    "    yield 2\n",
    "    yield 3\n",
    "    yield 4\n",
    "    yield 5\n",
    "\n",
    "# Testing the generator function\n",
    "gen = generator()\n",
    "print(next(gen))\n",
    "print(next(gen))\n",
    "print(next(gen))\n",
    "print(next(gen))\n",
    "print(next(gen))"
   ]
  },
  {
   "cell_type": "code",
   "execution_count": null,
   "id": "455ec61b-08c7-4c6a-a1ea-1edaa4835568",
   "metadata": {},
   "outputs": [],
   "source": [
    "#Q5. Create a generator function for prime numbers less than 1000. Use the next() method to print the first 20 prime numbers."
   ]
  },
  {
   "cell_type": "code",
   "execution_count": 25,
   "id": "6989ba27-22f6-410f-8a29-d8b85c56eb57",
   "metadata": {},
   "outputs": [],
   "source": [
    "def prime(num):\n",
    "    if num < 2:\n",
    "        return False\n",
    "    for i in range(2, int(num**0.5) + 1):\n",
    "        if num % i == 0:\n",
    "            return False\n",
    "    return True\n",
    "\n",
    "def prime_generator(limit):\n",
    "    num = 2\n",
    "    while num < limit:\n",
    "        if prime(num):\n",
    "            yield num\n",
    "        num += 1"
   ]
  },
  {
   "cell_type": "code",
   "execution_count": 26,
   "id": "8c5377b9-5cb0-425a-8dac-e7a8c5c79a28",
   "metadata": {},
   "outputs": [
    {
     "name": "stdout",
     "output_type": "stream",
     "text": [
      "2\n",
      "3\n",
      "5\n",
      "7\n",
      "11\n",
      "13\n",
      "17\n",
      "19\n",
      "23\n",
      "29\n",
      "31\n",
      "37\n",
      "41\n",
      "43\n",
      "47\n",
      "53\n",
      "59\n",
      "61\n",
      "67\n",
      "71\n"
     ]
    }
   ],
   "source": [
    "primes = prime_generator(1000)\n",
    "for _ in range(20):\n",
    "    print(next(primes))"
   ]
  },
  {
   "cell_type": "code",
   "execution_count": null,
   "id": "def4b463-1d3e-4719-9ad7-c59ea05b9727",
   "metadata": {},
   "outputs": [],
   "source": []
  }
 ],
 "metadata": {
  "kernelspec": {
   "display_name": "Python 3 (ipykernel)",
   "language": "python",
   "name": "python3"
  },
  "language_info": {
   "codemirror_mode": {
    "name": "ipython",
    "version": 3
   },
   "file_extension": ".py",
   "mimetype": "text/x-python",
   "name": "python",
   "nbconvert_exporter": "python",
   "pygments_lexer": "ipython3",
   "version": "3.10.8"
  }
 },
 "nbformat": 4,
 "nbformat_minor": 5
}
